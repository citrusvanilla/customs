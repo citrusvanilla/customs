{
 "cells": [
  {
   "cell_type": "markdown",
   "metadata": {},
   "source": [
    "# Analysis of JFK International Terminal Server Scheduling with Time-based Greedy Optimization with Stochastic Simulation\n",
    "\n",
    "This notebook walks through an analysis of server scheduling using a time-based greedy optimization method for the JFK airport International arrivals terminal (terminal 4) for both domestic and international passengers for the 24 hours of October 23rd, 2017.  \n",
    "\n",
    "## Input Data\n",
    "- [Arrivals to JFK](https://www.airport-jfk.com/arrivals.php)\n",
    "- [Seat counts](https://www.seatguru.com/)\n",
    "- [Service distribution assumptions](https://www.cbp.gov/travel/advisories-wait-times)\n",
    "\n",
    "Data is scrapped, transformed, and loaded into the customs_db.sqlite database with scripts found in the [customs repository](https://www.github.com/citrusvanilla).\n",
    "\n",
    "## Optimization/Scheduling\n",
    "\n",
    "Scheduling uses a time-series based greedy optimization algorithm to ensure the capping of the average wait time of an agent in the system while minimizing the overall number of total server hours required. This method reduces the complexity of an exhaustive search for an optimal schedule from an intractable, exponentially-complex problem in O(N^m) to a linearly-complex search for a near-optimal schedule in O(m * N).  Use of momentum in the greedy search further reduces the number of realized simulations by another 30-40%.  Full description can be found in the parent repository README file.\n",
    "\n",
    "The comparative heuristic schedule compares the same number of total servers hours as the optimized cases, scheduled to match the distribution of arrivals in linear fashion (i.e. assign one server for every 40 arrivals per hour)."
   ]
  },
  {
   "cell_type": "markdown",
   "metadata": {},
   "source": [
    "## Analysis\n",
    "\n",
    "Below we present the results of our motivating example. "
   ]
  },
  {
   "cell_type": "code",
   "execution_count": 1,
   "metadata": {
    "collapsed": true
   },
   "outputs": [],
   "source": [
    "from __future__ import print_function\n",
    "\n",
    "import os\n",
    "import re\n",
    "import sqlite3\n",
    "\n",
    "import numpy as np\n",
    "import matplotlib.pyplot as plt\n",
    "import pandas as pd\n",
    "\n",
    "sim_dir = os.path.join(os.getcwd(), \"output\")\n",
    "\n",
    "# Get a list of simulation directory names.\n",
    "simulations = [i for i in os.listdir(sim_dir) if not i.startswith('.')]\n",
    "\n",
    "# Tell iPython to include plots inline in the notebook\n",
    "%matplotlib inline"
   ]
  },
  {
   "cell_type": "markdown",
   "metadata": {},
   "source": [
    "## Metadata\n",
    "Stuff about the sims here."
   ]
  },
  {
   "cell_type": "code",
   "execution_count": 2,
   "metadata": {
    "collapsed": false
   },
   "outputs": [],
   "source": [
    "# Init empty dataframe for output.\n",
    "logs = pd.DataFrame()\n",
    "\n",
    "# Define headers.\n",
    "headers = [\"passenger/server type\",\n",
    "           \"wait threshold\",\n",
    "           \"max available servers\",\n",
    "           \"number of optimizations\",\n",
    "           \"ave num sims per optimization\",\n",
    "           \"ave time per optimization\",\n",
    "           \"total simulation time\"]\n",
    "\n",
    "# Retrieve the log CSVs and output simple metadata.\n",
    "for i, simulation in enumerate(simulations):\n",
    "\n",
    "    # Get the log file for the sim.\n",
    "    log = pd.read_csv(os.path.join(sim_dir, simulation, \"log.csv\"), header=None)\n",
    "    \n",
    "    # Get the following sim metrics:\n",
    "    passenger_type = re.search(\"^[a-z]+\", simulation).group(0)\n",
    "    threshold = int(re.sub(\"m\",\"\", re.search(\"[0-9]+m\", simulation).group(0)))\n",
    "    max_servers = int(re.sub(\"servers\",\"\", re.search(\"[0-9]+servers\", simulation).group(0)))\n",
    "    num_repetitions = len(log)\n",
    "    ave_num_sims = int(log[1].mean())\n",
    "    ave_sim_time = int(log[2].mean())\n",
    "    tot_sim_time = int(num_repetitions * ave_sim_time)\n",
    "    \n",
    "    # Make a pandas series from the data and concatenate.\n",
    "    metadata = pd.Series([passenger_type,\n",
    "                          str(threshold) + \"m\",\n",
    "                          max_servers,\n",
    "                          num_repetitions,\n",
    "                          ave_num_sims,\n",
    "                          str(ave_sim_time/60) + \"m\",\n",
    "                          str(tot_sim_time/3600) + \"h\"],\n",
    "                         index = headers,\n",
    "                         name = \"sim_\" + str(i+1))\n",
    "\n",
    "    logs = pd.concat([logs, metadata], axis=1)"
   ]
  },
  {
   "cell_type": "code",
   "execution_count": 3,
   "metadata": {
    "collapsed": false
   },
   "outputs": [
    {
     "data": {
      "text/html": [
       "<div>\n",
       "<table border=\"1\" class=\"dataframe\">\n",
       "  <thead>\n",
       "    <tr style=\"text-align: right;\">\n",
       "      <th></th>\n",
       "      <th>sim_1</th>\n",
       "      <th>sim_2</th>\n",
       "      <th>sim_3</th>\n",
       "      <th>sim_4</th>\n",
       "      <th>sim_5</th>\n",
       "      <th>sim_6</th>\n",
       "      <th>sim_7</th>\n",
       "      <th>sim_8</th>\n",
       "    </tr>\n",
       "  </thead>\n",
       "  <tbody>\n",
       "    <tr>\n",
       "      <th>ave num sims per optimization</th>\n",
       "      <td>116</td>\n",
       "      <td>106</td>\n",
       "      <td>108</td>\n",
       "      <td>105</td>\n",
       "      <td>214</td>\n",
       "      <td>171</td>\n",
       "      <td>174</td>\n",
       "      <td>165</td>\n",
       "    </tr>\n",
       "    <tr>\n",
       "      <th>ave time per optimization</th>\n",
       "      <td>7m</td>\n",
       "      <td>5m</td>\n",
       "      <td>8m</td>\n",
       "      <td>6m</td>\n",
       "      <td>13m</td>\n",
       "      <td>9m</td>\n",
       "      <td>7m</td>\n",
       "      <td>5m</td>\n",
       "    </tr>\n",
       "    <tr>\n",
       "      <th>max available servers</th>\n",
       "      <td>20</td>\n",
       "      <td>20</td>\n",
       "      <td>15</td>\n",
       "      <td>15</td>\n",
       "      <td>50</td>\n",
       "      <td>40</td>\n",
       "      <td>40</td>\n",
       "      <td>40</td>\n",
       "    </tr>\n",
       "    <tr>\n",
       "      <th>number of optimizations</th>\n",
       "      <td>100</td>\n",
       "      <td>100</td>\n",
       "      <td>100</td>\n",
       "      <td>100</td>\n",
       "      <td>100</td>\n",
       "      <td>100</td>\n",
       "      <td>100</td>\n",
       "      <td>100</td>\n",
       "    </tr>\n",
       "    <tr>\n",
       "      <th>passenger/server type</th>\n",
       "      <td>dom</td>\n",
       "      <td>dom</td>\n",
       "      <td>dom</td>\n",
       "      <td>dom</td>\n",
       "      <td>foreign</td>\n",
       "      <td>foreign</td>\n",
       "      <td>foreign</td>\n",
       "      <td>foreign</td>\n",
       "    </tr>\n",
       "    <tr>\n",
       "      <th>total simulation time</th>\n",
       "      <td>13h</td>\n",
       "      <td>8h</td>\n",
       "      <td>13h</td>\n",
       "      <td>10h</td>\n",
       "      <td>21h</td>\n",
       "      <td>15h</td>\n",
       "      <td>12h</td>\n",
       "      <td>9h</td>\n",
       "    </tr>\n",
       "    <tr>\n",
       "      <th>wait threshold</th>\n",
       "      <td>20m</td>\n",
       "      <td>30m</td>\n",
       "      <td>40m</td>\n",
       "      <td>50m</td>\n",
       "      <td>20m</td>\n",
       "      <td>30m</td>\n",
       "      <td>40m</td>\n",
       "      <td>50m</td>\n",
       "    </tr>\n",
       "  </tbody>\n",
       "</table>\n",
       "</div>"
      ],
      "text/plain": [
       "                              sim_1 sim_2 sim_3 sim_4    sim_5    sim_6  \\\n",
       "ave num sims per optimization   116   106   108   105      214      171   \n",
       "ave time per optimization        7m    5m    8m    6m      13m       9m   \n",
       "max available servers            20    20    15    15       50       40   \n",
       "number of optimizations         100   100   100   100      100      100   \n",
       "passenger/server type           dom   dom   dom   dom  foreign  foreign   \n",
       "total simulation time           13h    8h   13h   10h      21h      15h   \n",
       "wait threshold                  20m   30m   40m   50m      20m      30m   \n",
       "\n",
       "                                 sim_7    sim_8  \n",
       "ave num sims per optimization      174      165  \n",
       "ave time per optimization           7m       5m  \n",
       "max available servers               40       40  \n",
       "number of optimizations            100      100  \n",
       "passenger/server type          foreign  foreign  \n",
       "total simulation time              12h       9h  \n",
       "wait threshold                     40m      50m  "
      ]
     },
     "execution_count": 3,
     "metadata": {},
     "output_type": "execute_result"
    }
   ],
   "source": [
    "# Output metadata.\n",
    "logs"
   ]
  },
  {
   "cell_type": "markdown",
   "metadata": {},
   "source": [
    "## Best Schedules\n",
    "\n",
    "We choose one simulation here for demonstration purposes.\n",
    "\n",
    "We load the results of repeated simulations into a temporary table in a database, run the summary queries and display the resultant optimized schedule and comparative heuristic schedule."
   ]
  },
  {
   "cell_type": "code",
   "execution_count": 4,
   "metadata": {
    "collapsed": false
   },
   "outputs": [
    {
     "name": "stdout",
     "output_type": "stream",
     "text": [
      "Schedule for dom_20m_20servers.\n"
     ]
    },
    {
     "data": {
      "text/html": [
       "<div>\n",
       "<table border=\"1\" class=\"dataframe\">\n",
       "  <thead>\n",
       "    <tr style=\"text-align: right;\">\n",
       "      <th></th>\n",
       "      <th>hour</th>\n",
       "      <th>OPT_num_servers</th>\n",
       "      <th>HEUR_num_servers</th>\n",
       "      <th>OPT_ave_wait</th>\n",
       "      <th>HEUR_ave_wait</th>\n",
       "      <th>OPT_max_wait</th>\n",
       "      <th>HEUR_max_wait</th>\n",
       "      <th>OPT_ave_server_util</th>\n",
       "      <th>HEUR_ave_server_util</th>\n",
       "    </tr>\n",
       "  </thead>\n",
       "  <tbody>\n",
       "    <tr>\n",
       "      <th>0</th>\n",
       "      <td>0</td>\n",
       "      <td>4.00</td>\n",
       "      <td>4.78</td>\n",
       "      <td>17</td>\n",
       "      <td>13</td>\n",
       "      <td>35</td>\n",
       "      <td>29</td>\n",
       "      <td>0.7500</td>\n",
       "      <td>0.7022</td>\n",
       "    </tr>\n",
       "    <tr>\n",
       "      <th>1</th>\n",
       "      <td>1</td>\n",
       "      <td>2.18</td>\n",
       "      <td>1.00</td>\n",
       "      <td>16</td>\n",
       "      <td>33</td>\n",
       "      <td>31</td>\n",
       "      <td>55</td>\n",
       "      <td>0.6858</td>\n",
       "      <td>0.8752</td>\n",
       "    </tr>\n",
       "    <tr>\n",
       "      <th>2</th>\n",
       "      <td>2</td>\n",
       "      <td>4.07</td>\n",
       "      <td>3.00</td>\n",
       "      <td>18</td>\n",
       "      <td>26</td>\n",
       "      <td>37</td>\n",
       "      <td>66</td>\n",
       "      <td>0.7016</td>\n",
       "      <td>0.7749</td>\n",
       "    </tr>\n",
       "    <tr>\n",
       "      <th>3</th>\n",
       "      <td>3</td>\n",
       "      <td>2.00</td>\n",
       "      <td>1.00</td>\n",
       "      <td>16</td>\n",
       "      <td>26</td>\n",
       "      <td>32</td>\n",
       "      <td>44</td>\n",
       "      <td>0.4200</td>\n",
       "      <td>0.8628</td>\n",
       "    </tr>\n",
       "    <tr>\n",
       "      <th>4</th>\n",
       "      <td>5</td>\n",
       "      <td>4.47</td>\n",
       "      <td>6.00</td>\n",
       "      <td>16</td>\n",
       "      <td>10</td>\n",
       "      <td>31</td>\n",
       "      <td>22</td>\n",
       "      <td>0.8300</td>\n",
       "      <td>0.7555</td>\n",
       "    </tr>\n",
       "    <tr>\n",
       "      <th>5</th>\n",
       "      <td>6</td>\n",
       "      <td>5.48</td>\n",
       "      <td>7.00</td>\n",
       "      <td>17</td>\n",
       "      <td>12</td>\n",
       "      <td>36</td>\n",
       "      <td>32</td>\n",
       "      <td>0.7566</td>\n",
       "      <td>0.5818</td>\n",
       "    </tr>\n",
       "    <tr>\n",
       "      <th>6</th>\n",
       "      <td>7</td>\n",
       "      <td>4.93</td>\n",
       "      <td>3.97</td>\n",
       "      <td>16</td>\n",
       "      <td>19</td>\n",
       "      <td>30</td>\n",
       "      <td>35</td>\n",
       "      <td>0.7615</td>\n",
       "      <td>0.6999</td>\n",
       "    </tr>\n",
       "    <tr>\n",
       "      <th>7</th>\n",
       "      <td>8</td>\n",
       "      <td>7.97</td>\n",
       "      <td>6.00</td>\n",
       "      <td>18</td>\n",
       "      <td>49</td>\n",
       "      <td>38</td>\n",
       "      <td>90</td>\n",
       "      <td>0.1880</td>\n",
       "      <td>0.3786</td>\n",
       "    </tr>\n",
       "    <tr>\n",
       "      <th>8</th>\n",
       "      <td>9</td>\n",
       "      <td>7.29</td>\n",
       "      <td>2.00</td>\n",
       "      <td>6</td>\n",
       "      <td>37</td>\n",
       "      <td>16</td>\n",
       "      <td>46</td>\n",
       "      <td>0.6168</td>\n",
       "      <td>1.0000</td>\n",
       "    </tr>\n",
       "    <tr>\n",
       "      <th>9</th>\n",
       "      <td>10</td>\n",
       "      <td>4.17</td>\n",
       "      <td>5.00</td>\n",
       "      <td>18</td>\n",
       "      <td>35</td>\n",
       "      <td>33</td>\n",
       "      <td>59</td>\n",
       "      <td>0.7187</td>\n",
       "      <td>1.0000</td>\n",
       "    </tr>\n",
       "    <tr>\n",
       "      <th>10</th>\n",
       "      <td>12</td>\n",
       "      <td>6.07</td>\n",
       "      <td>7.00</td>\n",
       "      <td>18</td>\n",
       "      <td>14</td>\n",
       "      <td>36</td>\n",
       "      <td>31</td>\n",
       "      <td>0.8056</td>\n",
       "      <td>0.8151</td>\n",
       "    </tr>\n",
       "    <tr>\n",
       "      <th>11</th>\n",
       "      <td>13</td>\n",
       "      <td>16.92</td>\n",
       "      <td>20.00</td>\n",
       "      <td>18</td>\n",
       "      <td>11</td>\n",
       "      <td>30</td>\n",
       "      <td>20</td>\n",
       "      <td>1.0000</td>\n",
       "      <td>0.8663</td>\n",
       "    </tr>\n",
       "    <tr>\n",
       "      <th>12</th>\n",
       "      <td>14</td>\n",
       "      <td>9.89</td>\n",
       "      <td>14.01</td>\n",
       "      <td>17</td>\n",
       "      <td>6</td>\n",
       "      <td>36</td>\n",
       "      <td>16</td>\n",
       "      <td>1.0000</td>\n",
       "      <td>0.6793</td>\n",
       "    </tr>\n",
       "    <tr>\n",
       "      <th>13</th>\n",
       "      <td>15</td>\n",
       "      <td>6.27</td>\n",
       "      <td>6.00</td>\n",
       "      <td>14</td>\n",
       "      <td>14</td>\n",
       "      <td>29</td>\n",
       "      <td>26</td>\n",
       "      <td>0.7148</td>\n",
       "      <td>0.6001</td>\n",
       "    </tr>\n",
       "    <tr>\n",
       "      <th>14</th>\n",
       "      <td>16</td>\n",
       "      <td>13.00</td>\n",
       "      <td>19.42</td>\n",
       "      <td>17</td>\n",
       "      <td>8</td>\n",
       "      <td>31</td>\n",
       "      <td>20</td>\n",
       "      <td>0.8290</td>\n",
       "      <td>0.7390</td>\n",
       "    </tr>\n",
       "    <tr>\n",
       "      <th>15</th>\n",
       "      <td>17</td>\n",
       "      <td>14.22</td>\n",
       "      <td>12.01</td>\n",
       "      <td>18</td>\n",
       "      <td>12</td>\n",
       "      <td>33</td>\n",
       "      <td>23</td>\n",
       "      <td>0.9988</td>\n",
       "      <td>0.9070</td>\n",
       "    </tr>\n",
       "    <tr>\n",
       "      <th>16</th>\n",
       "      <td>18</td>\n",
       "      <td>8.38</td>\n",
       "      <td>6.00</td>\n",
       "      <td>13</td>\n",
       "      <td>19</td>\n",
       "      <td>24</td>\n",
       "      <td>35</td>\n",
       "      <td>0.4474</td>\n",
       "      <td>0.5066</td>\n",
       "    </tr>\n",
       "    <tr>\n",
       "      <th>17</th>\n",
       "      <td>19</td>\n",
       "      <td>16.27</td>\n",
       "      <td>9.00</td>\n",
       "      <td>18</td>\n",
       "      <td>39</td>\n",
       "      <td>28</td>\n",
       "      <td>60</td>\n",
       "      <td>0.6801</td>\n",
       "      <td>1.0000</td>\n",
       "    </tr>\n",
       "    <tr>\n",
       "      <th>18</th>\n",
       "      <td>20</td>\n",
       "      <td>5.34</td>\n",
       "      <td>6.00</td>\n",
       "      <td>17</td>\n",
       "      <td>14</td>\n",
       "      <td>35</td>\n",
       "      <td>30</td>\n",
       "      <td>0.7500</td>\n",
       "      <td>0.8349</td>\n",
       "    </tr>\n",
       "    <tr>\n",
       "      <th>19</th>\n",
       "      <td>21</td>\n",
       "      <td>5.65</td>\n",
       "      <td>6.00</td>\n",
       "      <td>17</td>\n",
       "      <td>13</td>\n",
       "      <td>38</td>\n",
       "      <td>31</td>\n",
       "      <td>0.8866</td>\n",
       "      <td>0.7717</td>\n",
       "    </tr>\n",
       "    <tr>\n",
       "      <th>20</th>\n",
       "      <td>22</td>\n",
       "      <td>3.96</td>\n",
       "      <td>4.00</td>\n",
       "      <td>16</td>\n",
       "      <td>15</td>\n",
       "      <td>37</td>\n",
       "      <td>35</td>\n",
       "      <td>0.8625</td>\n",
       "      <td>0.8321</td>\n",
       "    </tr>\n",
       "  </tbody>\n",
       "</table>\n",
       "</div>"
      ],
      "text/plain": [
       "    hour  OPT_num_servers  HEUR_num_servers  OPT_ave_wait  HEUR_ave_wait  \\\n",
       "0      0             4.00              4.78            17             13   \n",
       "1      1             2.18              1.00            16             33   \n",
       "2      2             4.07              3.00            18             26   \n",
       "3      3             2.00              1.00            16             26   \n",
       "4      5             4.47              6.00            16             10   \n",
       "5      6             5.48              7.00            17             12   \n",
       "6      7             4.93              3.97            16             19   \n",
       "7      8             7.97              6.00            18             49   \n",
       "8      9             7.29              2.00             6             37   \n",
       "9     10             4.17              5.00            18             35   \n",
       "10    12             6.07              7.00            18             14   \n",
       "11    13            16.92             20.00            18             11   \n",
       "12    14             9.89             14.01            17              6   \n",
       "13    15             6.27              6.00            14             14   \n",
       "14    16            13.00             19.42            17              8   \n",
       "15    17            14.22             12.01            18             12   \n",
       "16    18             8.38              6.00            13             19   \n",
       "17    19            16.27              9.00            18             39   \n",
       "18    20             5.34              6.00            17             14   \n",
       "19    21             5.65              6.00            17             13   \n",
       "20    22             3.96              4.00            16             15   \n",
       "\n",
       "    OPT_max_wait  HEUR_max_wait  OPT_ave_server_util  HEUR_ave_server_util  \n",
       "0             35             29               0.7500                0.7022  \n",
       "1             31             55               0.6858                0.8752  \n",
       "2             37             66               0.7016                0.7749  \n",
       "3             32             44               0.4200                0.8628  \n",
       "4             31             22               0.8300                0.7555  \n",
       "5             36             32               0.7566                0.5818  \n",
       "6             30             35               0.7615                0.6999  \n",
       "7             38             90               0.1880                0.3786  \n",
       "8             16             46               0.6168                1.0000  \n",
       "9             33             59               0.7187                1.0000  \n",
       "10            36             31               0.8056                0.8151  \n",
       "11            30             20               1.0000                0.8663  \n",
       "12            36             16               1.0000                0.6793  \n",
       "13            29             26               0.7148                0.6001  \n",
       "14            31             20               0.8290                0.7390  \n",
       "15            33             23               0.9988                0.9070  \n",
       "16            24             35               0.4474                0.5066  \n",
       "17            28             60               0.6801                1.0000  \n",
       "18            35             30               0.7500                0.8349  \n",
       "19            38             31               0.8866                0.7717  \n",
       "20            37             35               0.8625                0.8321  "
      ]
     },
     "execution_count": 4,
     "metadata": {},
     "output_type": "execute_result"
    }
   ],
   "source": [
    "# Grab a sample domestic and foreign directory for analysis.\n",
    "sim = simulations[0]\n",
    "\n",
    "sample_dir = os.path.join(\"output\", sim)\n",
    "\n",
    "# Use the customs db, or another for temporary SQL querying.\n",
    "tmp_db = \"tmp_db.sqlite\"\n",
    "connection = sqlite3.connect(tmp_db)\n",
    "cursor = connection.cursor()\n",
    "\n",
    "cursor.execute(\"DROP TABLE if exists optimized;\")\n",
    "cursor.execute(\"DROP TABLE if exists heuristic;\")\n",
    "\n",
    "# Create temporary tables.\n",
    "cursor.execute('CREATE TABLE optimized '\n",
    "                    '(idx integer primary key, '\n",
    "                    'hour integer, '\n",
    "                    'count integer, '\n",
    "                    'ave_wait real, '\n",
    "                    'max_wait real, '\n",
    "                    'ave_server_utilization real, '\n",
    "                    'num_servers integer);')\n",
    "\n",
    "cursor.execute('CREATE TABLE heuristic '\n",
    "                    '(idx integer primary key, '\n",
    "                    'hour integer, '\n",
    "                    'count integer, '\n",
    "                    'ave_wait real, '\n",
    "                    'max_wait real, '\n",
    "                    'ave_server_utilization real, '\n",
    "                    'num_servers integer);')\n",
    "\n",
    "# Read in the raw results from CSV to pandas dataframes.\n",
    "tmp_opt = pd.read_csv(os.path.join(sample_dir, \"optimized_models.csv\"))\n",
    "tmp_heur = pd.read_csv(os.path.join(sample_dir, \"heuristic_models.csv\"))\n",
    "\n",
    "# Insert raw results into database\n",
    "tmp_opt.to_sql('optimized', connection, if_exists='replace')\n",
    "tmp_heur.to_sql('heuristic', connection, if_exists='replace')\n",
    "\n",
    "# Perform summary SQL queries.\n",
    "data_opt = pd.read_sql('SELECT cast(hour as int) as hour, '\n",
    "                               'cast(avg(ave_wait) as int) as OPT_ave_wait, '\n",
    "                               'cast(avg(max_wait) as int) as OPT_max_wait, '\n",
    "                               'avg(ave_server_utilization) as OPT_ave_server_util, '\n",
    "                               'avg(num_servers) as OPT_num_servers '\n",
    "                           'FROM optimized '\n",
    "                           'WHERE hour != \\'hour\\''\n",
    "                           'GROUP by hour '\n",
    "                           'ORDER BY cast(hour as integer)', connection)\n",
    "\n",
    "data_heur = pd.read_sql('SELECT cast(hour as integer) as hour, '\n",
    "                                'cast(avg(ave_wait) as int) as HEUR_ave_wait, '\n",
    "                                'cast(avg(max_wait) as int) as HEUR_max_wait, '\n",
    "                                'avg(ave_server_utilization) as HEUR_ave_server_util, '\n",
    "                                'avg(num_servers) as HEUR_num_servers '\n",
    "                            'FROM heuristic '\n",
    "                            'WHERE hour != \\'hour\\''\n",
    "                            'GROUP BY hour '\n",
    "                            'ORDER BY cast(hour as integer)', connection)\n",
    "\n",
    "# Clean-up and close database connection.\n",
    "cursor.execute(\"DROP TABLE optimized;\")\n",
    "cursor.execute(\"DROP TABLE heuristic;\")\n",
    "\n",
    "connection.close()\n",
    "\n",
    "# Merge dataframes for comparitive analysis.\n",
    "data_comp = data_opt.merge(data_heur, left_on='hour', right_on='hour', how='outer')\n",
    "cols = data_comp.columns.tolist()\n",
    "data_comp = data_comp[[cols[0], cols[4], cols[8], cols[1], cols[5], cols[2], cols[6], cols[3], cols[7]]]\n",
    "\n",
    "print(\"Schedule for \", sim, \".\", sep = \"\")\n",
    "data_comp"
   ]
  },
  {
   "cell_type": "markdown",
   "metadata": {},
   "source": [
    "## Comparative Analysis\n",
    "\n",
    "Plot shit here."
   ]
  },
  {
   "cell_type": "markdown",
   "metadata": {},
   "source": [
    "### Average Wait Times, Optimized Schedule vs. Linear Heuristic"
   ]
  },
  {
   "cell_type": "code",
   "execution_count": 5,
   "metadata": {
    "collapsed": false
   },
   "outputs": [
    {
     "name": "stdout",
     "output_type": "stream",
     "text": [
      "Optimized customs schedule: \n",
      "Average wait: 16.2380952381 minutes\n",
      "Standard deviation: 2.70008818198 minutes.\n",
      "Num. hours in which a passenger's average wait exceeds threshold: 0\n",
      "\n",
      "Heuristic customs schedule: \n",
      "Average wait: 20.2380952381 minutes\n",
      "Standard deviation: 11.9117788844 minutes.\n",
      "Num. hours in which a passenger's average wait exceeds threshold: 5\n"
     ]
    },
    {
     "data": {
      "text/plain": [
       "<matplotlib.axes._subplots.AxesSubplot at 0x104da4a50>"
      ]
     },
     "execution_count": 5,
     "metadata": {},
     "output_type": "execute_result"
    },
    {
     "data": {
      "image/png": "[encoded data removed]",
      "text/plain": [
       "<matplotlib.figure.Figure at 0x104e41210>"
      ]
     },
     "metadata": {},
     "output_type": "display_data"
    }
   ],
   "source": [
    "print(\"Optimized customs schedule: \\n\",\n",
    "      \"Average wait: \", data_comp['OPT_ave_wait'].mean(), \" minutes\\n\",\n",
    "      \"Standard deviation: \", data_comp['OPT_ave_wait'].std(), \" minutes.\\n\",\n",
    "      \"Num. hours in which a passenger's average wait exceeds threshold: \",\n",
    "      (data_comp['OPT_ave_wait'] > 30).sum(), \"\\n\", sep= \"\")\n",
    "\n",
    "print(\"Heuristic customs schedule: \\n\",\n",
    "      \"Average wait: \", data_comp['HEUR_ave_wait'].mean(), \" minutes\\n\",\n",
    "      \"Standard deviation: \", data_comp['HEUR_ave_wait'].std(), \" minutes.\\n\",\n",
    "      \"Num. hours in which a passenger's average wait exceeds threshold: \",  (data_comp['HEUR_ave_wait'] > 30).sum(), sep= \"\")\n",
    "\n",
    "data_comp.plot(x='hour', figsize = (10,5), y=['OPT_ave_wait', 'HEUR_ave_wait'], kind = 'bar', color=('b','r'))"
   ]
  },
  {
   "cell_type": "markdown",
   "metadata": {},
   "source": [
    "### Maximum Wait Times, Optimized Schedule vs. Linear Heuristic"
   ]
  },
  {
   "cell_type": "code",
   "execution_count": 6,
   "metadata": {
    "collapsed": false
   },
   "outputs": [
    {
     "name": "stdout",
     "output_type": "stream",
     "text": [
      "Optimized customs schedule: \n",
      "Maximum wait time: 38 minutes\n",
      "Num. hours in which a passenger's average wait exceeds 2x threshold: 0\n",
      "\n",
      "Heuristic customs schedule: \n",
      "Maximum wait time: 90 minutes\n",
      "Num. hours in which a passenger's average wait exceeds 2x threshold: 2\n"
     ]
    },
    {
     "data": {
      "text/plain": [
       "<matplotlib.axes._subplots.AxesSubplot at 0x104da4790>"
      ]
     },
     "execution_count": 6,
     "metadata": {},
     "output_type": "execute_result"
    },
    {
     "data": {
      "image/png": "[encoded data removed]",
      "text/plain": [
       "<matplotlib.figure.Figure at 0x104dbffd0>"
      ]
     },
     "metadata": {},
     "output_type": "display_data"
    }
   ],
   "source": [
    "print(\"Optimized customs schedule: \\n\",\n",
    "      \"Maximum wait time: \", data_comp['OPT_max_wait'].max(), \" minutes\\n\",\n",
    "      \"Num. hours in which a passenger's average wait exceeds 2x threshold: \",\n",
    "      (data_comp['OPT_max_wait'] > 60).sum(), \"\\n\", sep= \"\")\n",
    "\n",
    "print(\"Heuristic customs schedule: \\n\",\n",
    "      \"Maximum wait time: \", data_comp['HEUR_max_wait'].max(), \" minutes\\n\",\n",
    "      \"Num. hours in which a passenger's average wait exceeds 2x threshold: \",\n",
    "      (data_comp['HEUR_max_wait'] > 60).sum(), sep= \"\")\n",
    "\n",
    "data_comp.plot(x='hour', figsize = (10,5), y=['OPT_max_wait', 'HEUR_max_wait'], kind = 'bar', color=('b','r'))"
   ]
  },
  {
   "cell_type": "markdown",
   "metadata": {},
   "source": [
    "### Number of Servers, Optimized Schedule vs. Linear Heuristic"
   ]
  },
  {
   "cell_type": "code",
   "execution_count": 7,
   "metadata": {
    "collapsed": false
   },
   "outputs": [
    {
     "name": "stdout",
     "output_type": "stream",
     "text": [
      "Optimized customs schedule: \n",
      "Total scheduled servers: 152\n",
      "\n",
      "Heuristic customs schedule: \n",
      "Total scheduled servers: 149\n",
      "\n"
     ]
    },
    {
     "data": {
      "text/plain": [
       "<matplotlib.axes._subplots.AxesSubplot at 0x102859b90>"
      ]
     },
     "execution_count": 7,
     "metadata": {},
     "output_type": "execute_result"
    },
    {
     "data": {
      "image/png": "[encoded data removed]",
      "text/plain": [
       "<matplotlib.figure.Figure at 0x105309cd0>"
      ]
     },
     "metadata": {},
     "output_type": "display_data"
    }
   ],
   "source": [
    "print(\"Optimized customs schedule: \\n\",\n",
    "      \"Total scheduled servers: \", int(data_comp['OPT_num_servers'].sum()),\n",
    "      \"\\n\", sep= \"\")\n",
    "\n",
    "print(\"Heuristic customs schedule: \\n\",\n",
    "      \"Total scheduled servers: \", int(data_comp['HEUR_num_servers'].sum()),\n",
    "      \"\\n\", sep= \"\")\n",
    "\n",
    "\n",
    "data_comp.plot(x='hour', figsize = (10,5), y=['OPT_num_servers', 'HEUR_num_servers'], kind = 'bar', color=('b','r'))"
   ]
  },
  {
   "cell_type": "markdown",
   "metadata": {},
   "source": [
    "### Server Utilization, Optimized Schedule vs. Linear Heuristic"
   ]
  },
  {
   "cell_type": "code",
   "execution_count": 8,
   "metadata": {
    "collapsed": false
   },
   "outputs": [
    {
     "name": "stdout",
     "output_type": "stream",
     "text": [
      "Optimized customs schedule: \n",
      "Average server utilization: 0.733514285714\n",
      "Num. hours in which server utilization is 1: 2\n",
      "\n",
      "Heuristic customs schedule: \n",
      "Average server utilization: 0.770619047619\n",
      "Num. hours in which a passenger's average wait exceeds 2x threshold: 3\n"
     ]
    },
    {
     "data": {
      "text/plain": [
       "<matplotlib.axes._subplots.AxesSubplot at 0x10533b350>"
      ]
     },
     "execution_count": 8,
     "metadata": {},
     "output_type": "execute_result"
    },
    {
     "data": {
      "image/png": "[encoded data removed]",
      "text/plain": [
       "<matplotlib.figure.Figure at 0x1055c3590>"
      ]
     },
     "metadata": {},
     "output_type": "display_data"
    }
   ],
   "source": [
    "print(\"Optimized customs schedule: \\n\",\n",
    "      \"Average server utilization: \", data_comp['OPT_ave_server_util'].mean(), \"\\n\",\n",
    "      \"Num. hours in which server utilization is 1: \",\n",
    "      (data_comp['OPT_ave_server_util'] == 1).sum(), \"\\n\", sep= \"\")\n",
    "\n",
    "print(\"Heuristic customs schedule: \\n\",\n",
    "      \"Average server utilization: \", data_comp['HEUR_ave_server_util'].mean(), \"\\n\",\n",
    "      \"Num. hours in which a passenger's average wait exceeds 2x threshold: \",\n",
    "      (data_comp['HEUR_ave_server_util'] == 1).sum(), sep= \"\")\n",
    "\n",
    "data_comp.plot(x='hour', figsize = (10,5), y=['OPT_ave_server_util', 'HEUR_ave_server_util'], kind = 'bar', color=('b','r'))"
   ]
  }
 ],
 "metadata": {
  "kernelspec": {
   "display_name": "Python 2",
   "language": "python",
   "name": "python2"
  },
  "language_info": {
   "codemirror_mode": {
    "name": "ipython",
    "version": 2
   },
   "file_extension": ".py",
   "mimetype": "text/x-python",
   "name": "python",
   "nbconvert_exporter": "python",
   "pygments_lexer": "ipython2",
   "version": "2.7.11"
  }
 },
 "nbformat": 4,
 "nbformat_minor": 1
}
