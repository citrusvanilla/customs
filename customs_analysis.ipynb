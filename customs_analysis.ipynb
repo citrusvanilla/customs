{
 "cells": [
  {
   "cell_type": "markdown",
   "metadata": {},
   "source": [
    "# Analysis of JFK International Terminal Server Scheduling with Time-based Greedy Optimization with Stochastic Simulation\n",
    "\n",
    "This notebook walks through an analysis of server scheduling using a time-based greedy optimization method for the JFK airport International arrivals terminal (terminal 4) for both domestic and international passengers for the 24 hours of October 23rd, 2017.  \n",
    "\n",
    "## Input Data\n",
    "- [Arrivals to JFK](https://www.airport-jfk.com/arrivals.php)\n",
    "- [Seat counts](https://www.seatguru.com/)\n",
    "- [Service distribution assumptions](https://www.cbp.gov/travel/advisories-wait-times)\n",
    "\n",
    "Data is scrapped, transformed, and loaded into the customs_db.sqlite database with scripts found in the [customs repository](https://www.github.com/citrusvanilla).\n",
    "\n",
    "## Optimization/Scheduling\n",
    "\n",
    "Scheduling uses a time-series based greedy optimization algorithm to ensure the capping of the average wait time of an agent in the system while minimizing the overall number of total server hours required. This method reduces the complexity of an exhaustive search for an optimal schedule from an intractable, exponentially-complex problem in O(N^m) to a linearly-complex search for a near-optimal schedule in O(m * N).  Use of momentum in the greedy search further reduces the number of realized simulations by another 30-40%.  Full description can be found in the parent repository README file.\n",
    "\n",
    "The comparative heuristic schedule compares the same number of total servers hours as the optimized cases, scheduled to match the distribution of arrivals in linear fashion (i.e. assign one server for every 40 arrivals per hour).\n",
    "\n",
    "The objective function for the scheduling optimization probem is formally:\n",
    "\n",
    "MAXIMIZE AVERAGE WAIT TIME OF A PASSENGER ARRIVING IN HOURS I THROUGH J\n",
    "\n",
    "SUBJECT TO:\n",
    "- (average wait time <= threshold) for hours i through j\n",
    "- number of servers is between 1 and the MAX number of servers\n",
    "\n",
    "WHERE:\n",
    "- i,j are the start and ending hours of the simulation"
   ]
  },
  {
   "cell_type": "markdown",
   "metadata": {},
   "source": [
    "## Analysis\n",
    "\n",
    "Below we present the results of our motivating example. "
   ]
  },
  {
   "cell_type": "code",
   "execution_count": 1,
   "metadata": {
    "collapsed": true
   },
   "outputs": [],
   "source": [
    "from __future__ import print_function\n",
    "\n",
    "import os\n",
    "import re\n",
    "import sqlite3\n",
    "\n",
    "import numpy as np\n",
    "import matplotlib.pyplot as plt\n",
    "import pandas as pd\n",
    "import pylab\n",
    "\n",
    "sim_dir = os.path.join(os.getcwd(), \"output\")\n",
    "\n",
    "# Get a list of simulation directory names.\n",
    "simulations = [i for i in os.listdir(sim_dir) if not i.startswith('.')]\n",
    "\n",
    "# Tell iPython to include plots inline in the notebook\n",
    "%matplotlib inline"
   ]
  },
  {
   "cell_type": "markdown",
   "metadata": {},
   "source": [
    "## Metadata\n",
    "\n",
    "Let's extract some information about the computational performance of the simulations from the associated logs."
   ]
  },
  {
   "cell_type": "code",
   "execution_count": 2,
   "metadata": {
    "collapsed": false
   },
   "outputs": [],
   "source": [
    "# Init empty dataframe for output.\n",
    "logs = pd.DataFrame()\n",
    "\n",
    "# Define headers.\n",
    "headers = [\"passenger/server type\",\n",
    "           \"wait threshold (min)\",\n",
    "           \"max available servers\",\n",
    "           \"number of optimizations\",\n",
    "           \"ave num sims per optimization\",\n",
    "           \"ave time per optimization (min)\",\n",
    "           \"total simulation time (hr)\"]\n",
    "\n",
    "# Retrieve the log CSVs and output simple metadata.\n",
    "for i, simulation in enumerate(simulations):\n",
    "\n",
    "    # Get the log file for the sim.\n",
    "    log = pd.read_csv(os.path.join(sim_dir, simulation, \"log.csv\"), header=None)\n",
    "    \n",
    "    # Get the following sim metrics:\n",
    "    passenger_type = re.search(\"^[a-z]+\", simulation).group(0)\n",
    "    threshold = int(re.sub(\"m\",\"\", re.search(\"[0-9]+m\", simulation).group(0)))\n",
    "    max_servers = int(re.sub(\"servers\",\"\", re.search(\"[0-9]+servers\", simulation).group(0)))\n",
    "    num_repetitions = len(log)\n",
    "    ave_num_sims = int(log[1].mean())\n",
    "    ave_sim_time = int(log[2].mean())\n",
    "    tot_sim_time = int(num_repetitions * ave_sim_time)\n",
    "    path = simulation\n",
    "    \n",
    "    # Make a pandas series from the data and concatenate.\n",
    "    metadata = pd.Series([passenger_type,\n",
    "                          threshold,\n",
    "                          max_servers,\n",
    "                          num_repetitions,\n",
    "                          ave_num_sims,\n",
    "                          ave_sim_time / 60,\n",
    "                          tot_sim_time / 3600],\n",
    "                         index = headers,\n",
    "                         name = path)\n",
    "\n",
    "    logs = pd.concat([logs, metadata], axis=1)"
   ]
  },
  {
   "cell_type": "code",
   "execution_count": 3,
   "metadata": {
    "collapsed": false
   },
   "outputs": [
    {
     "data": {
      "text/html": [
       "<div>\n",
       "<table border=\"1\" class=\"dataframe\">\n",
       "  <thead>\n",
       "    <tr style=\"text-align: right;\">\n",
       "      <th></th>\n",
       "      <th>dom_20m_20servers</th>\n",
       "      <th>dom_30m_20servers</th>\n",
       "      <th>dom_40m_15servers</th>\n",
       "      <th>dom_50m_15servers</th>\n",
       "      <th>foreign_20m_50servers</th>\n",
       "      <th>foreign_30m_40servers</th>\n",
       "      <th>foreign_40m_40servers</th>\n",
       "      <th>foreign_50m_40servers</th>\n",
       "    </tr>\n",
       "  </thead>\n",
       "  <tbody>\n",
       "    <tr>\n",
       "      <th>ave num sims per optimization</th>\n",
       "      <td>116</td>\n",
       "      <td>106</td>\n",
       "      <td>108</td>\n",
       "      <td>105</td>\n",
       "      <td>214</td>\n",
       "      <td>171</td>\n",
       "      <td>174</td>\n",
       "      <td>165</td>\n",
       "    </tr>\n",
       "    <tr>\n",
       "      <th>ave time per optimization (min)</th>\n",
       "      <td>7</td>\n",
       "      <td>5</td>\n",
       "      <td>8</td>\n",
       "      <td>6</td>\n",
       "      <td>13</td>\n",
       "      <td>9</td>\n",
       "      <td>7</td>\n",
       "      <td>5</td>\n",
       "    </tr>\n",
       "    <tr>\n",
       "      <th>max available servers</th>\n",
       "      <td>20</td>\n",
       "      <td>20</td>\n",
       "      <td>15</td>\n",
       "      <td>15</td>\n",
       "      <td>50</td>\n",
       "      <td>40</td>\n",
       "      <td>40</td>\n",
       "      <td>40</td>\n",
       "    </tr>\n",
       "    <tr>\n",
       "      <th>number of optimizations</th>\n",
       "      <td>100</td>\n",
       "      <td>100</td>\n",
       "      <td>100</td>\n",
       "      <td>100</td>\n",
       "      <td>100</td>\n",
       "      <td>100</td>\n",
       "      <td>100</td>\n",
       "      <td>100</td>\n",
       "    </tr>\n",
       "    <tr>\n",
       "      <th>passenger/server type</th>\n",
       "      <td>dom</td>\n",
       "      <td>dom</td>\n",
       "      <td>dom</td>\n",
       "      <td>dom</td>\n",
       "      <td>foreign</td>\n",
       "      <td>foreign</td>\n",
       "      <td>foreign</td>\n",
       "      <td>foreign</td>\n",
       "    </tr>\n",
       "    <tr>\n",
       "      <th>total simulation time (hr)</th>\n",
       "      <td>13</td>\n",
       "      <td>8</td>\n",
       "      <td>13</td>\n",
       "      <td>10</td>\n",
       "      <td>21</td>\n",
       "      <td>15</td>\n",
       "      <td>12</td>\n",
       "      <td>9</td>\n",
       "    </tr>\n",
       "    <tr>\n",
       "      <th>wait threshold (min)</th>\n",
       "      <td>20</td>\n",
       "      <td>30</td>\n",
       "      <td>40</td>\n",
       "      <td>50</td>\n",
       "      <td>20</td>\n",
       "      <td>30</td>\n",
       "      <td>40</td>\n",
       "      <td>50</td>\n",
       "    </tr>\n",
       "  </tbody>\n",
       "</table>\n",
       "</div>"
      ],
      "text/plain": [
       "                                dom_20m_20servers dom_30m_20servers  \\\n",
       "ave num sims per optimization                 116               106   \n",
       "ave time per optimization (min)                 7                 5   \n",
       "max available servers                          20                20   \n",
       "number of optimizations                       100               100   \n",
       "passenger/server type                         dom               dom   \n",
       "total simulation time (hr)                     13                 8   \n",
       "wait threshold (min)                           20                30   \n",
       "\n",
       "                                dom_40m_15servers dom_50m_15servers  \\\n",
       "ave num sims per optimization                 108               105   \n",
       "ave time per optimization (min)                 8                 6   \n",
       "max available servers                          15                15   \n",
       "number of optimizations                       100               100   \n",
       "passenger/server type                         dom               dom   \n",
       "total simulation time (hr)                     13                10   \n",
       "wait threshold (min)                           40                50   \n",
       "\n",
       "                                foreign_20m_50servers foreign_30m_40servers  \\\n",
       "ave num sims per optimization                     214                   171   \n",
       "ave time per optimization (min)                    13                     9   \n",
       "max available servers                              50                    40   \n",
       "number of optimizations                           100                   100   \n",
       "passenger/server type                         foreign               foreign   \n",
       "total simulation time (hr)                         21                    15   \n",
       "wait threshold (min)                               20                    30   \n",
       "\n",
       "                                foreign_40m_40servers foreign_50m_40servers  \n",
       "ave num sims per optimization                     174                   165  \n",
       "ave time per optimization (min)                     7                     5  \n",
       "max available servers                              40                    40  \n",
       "number of optimizations                           100                   100  \n",
       "passenger/server type                         foreign               foreign  \n",
       "total simulation time (hr)                         12                     9  \n",
       "wait threshold (min)                               40                    50  "
      ]
     },
     "execution_count": 3,
     "metadata": {},
     "output_type": "execute_result"
    }
   ],
   "source": [
    "# Output metadata.\n",
    "logs"
   ]
  },
  {
   "cell_type": "markdown",
   "metadata": {},
   "source": [
    "## Best Schedules\n",
    "\n",
    "We choose one simulation here for demonstration purposes.\n",
    "\n",
    "We load the results of repeated simulations into a temporary table in a database, run the summary queries and display the resultant optimized schedule and comparative heuristic schedule."
   ]
  },
  {
   "cell_type": "code",
   "execution_count": 4,
   "metadata": {
    "collapsed": false
   },
   "outputs": [
    {
     "name": "stdout",
     "output_type": "stream",
     "text": [
      "Schedule for output/dom_30m_20servers:\n",
      "\n"
     ]
    },
    {
     "data": {
      "text/html": [
       "<div>\n",
       "<table border=\"1\" class=\"dataframe\">\n",
       "  <thead>\n",
       "    <tr style=\"text-align: right;\">\n",
       "      <th></th>\n",
       "      <th>hour</th>\n",
       "      <th>OPT_num_servers</th>\n",
       "      <th>HEUR_num_servers</th>\n",
       "      <th>OPT_ave_wait</th>\n",
       "      <th>HEUR_ave_wait</th>\n",
       "      <th>OPT_max_wait</th>\n",
       "      <th>HEUR_max_wait</th>\n",
       "      <th>OPT_ave_server_util</th>\n",
       "      <th>HEUR_ave_server_util</th>\n",
       "    </tr>\n",
       "  </thead>\n",
       "  <tbody>\n",
       "    <tr>\n",
       "      <th>0</th>\n",
       "      <td>0</td>\n",
       "      <td>3.00</td>\n",
       "      <td>4.00</td>\n",
       "      <td>26</td>\n",
       "      <td>18</td>\n",
       "      <td>48</td>\n",
       "      <td>45</td>\n",
       "      <td>0.7500</td>\n",
       "      <td>0.7500</td>\n",
       "    </tr>\n",
       "    <tr>\n",
       "      <th>1</th>\n",
       "      <td>1</td>\n",
       "      <td>3.00</td>\n",
       "      <td>1.00</td>\n",
       "      <td>24</td>\n",
       "      <td>40</td>\n",
       "      <td>35</td>\n",
       "      <td>58</td>\n",
       "      <td>0.7549</td>\n",
       "      <td>0.9999</td>\n",
       "    </tr>\n",
       "    <tr>\n",
       "      <th>2</th>\n",
       "      <td>2</td>\n",
       "      <td>3.00</td>\n",
       "      <td>3.00</td>\n",
       "      <td>25</td>\n",
       "      <td>26</td>\n",
       "      <td>54</td>\n",
       "      <td>66</td>\n",
       "      <td>0.6700</td>\n",
       "      <td>0.8743</td>\n",
       "    </tr>\n",
       "    <tr>\n",
       "      <th>3</th>\n",
       "      <td>3</td>\n",
       "      <td>2.00</td>\n",
       "      <td>1.00</td>\n",
       "      <td>16</td>\n",
       "      <td>26</td>\n",
       "      <td>32</td>\n",
       "      <td>44</td>\n",
       "      <td>0.6526</td>\n",
       "      <td>0.8647</td>\n",
       "    </tr>\n",
       "    <tr>\n",
       "      <th>4</th>\n",
       "      <td>5</td>\n",
       "      <td>3.80</td>\n",
       "      <td>5.00</td>\n",
       "      <td>21</td>\n",
       "      <td>13</td>\n",
       "      <td>41</td>\n",
       "      <td>26</td>\n",
       "      <td>0.8620</td>\n",
       "      <td>0.8791</td>\n",
       "    </tr>\n",
       "    <tr>\n",
       "      <th>5</th>\n",
       "      <td>6</td>\n",
       "      <td>4.21</td>\n",
       "      <td>6.00</td>\n",
       "      <td>26</td>\n",
       "      <td>15</td>\n",
       "      <td>49</td>\n",
       "      <td>44</td>\n",
       "      <td>0.9984</td>\n",
       "      <td>0.6494</td>\n",
       "    </tr>\n",
       "    <tr>\n",
       "      <th>6</th>\n",
       "      <td>7</td>\n",
       "      <td>3.97</td>\n",
       "      <td>3.00</td>\n",
       "      <td>20</td>\n",
       "      <td>23</td>\n",
       "      <td>37</td>\n",
       "      <td>42</td>\n",
       "      <td>0.9746</td>\n",
       "      <td>0.9040</td>\n",
       "    </tr>\n",
       "    <tr>\n",
       "      <th>7</th>\n",
       "      <td>8</td>\n",
       "      <td>5.01</td>\n",
       "      <td>5.03</td>\n",
       "      <td>28</td>\n",
       "      <td>53</td>\n",
       "      <td>56</td>\n",
       "      <td>97</td>\n",
       "      <td>0.3078</td>\n",
       "      <td>0.4931</td>\n",
       "    </tr>\n",
       "    <tr>\n",
       "      <th>8</th>\n",
       "      <td>9</td>\n",
       "      <td>5.00</td>\n",
       "      <td>2.00</td>\n",
       "      <td>11</td>\n",
       "      <td>47</td>\n",
       "      <td>24</td>\n",
       "      <td>58</td>\n",
       "      <td>0.9197</td>\n",
       "      <td>1.0000</td>\n",
       "    </tr>\n",
       "    <tr>\n",
       "      <th>9</th>\n",
       "      <td>10</td>\n",
       "      <td>3.00</td>\n",
       "      <td>4.00</td>\n",
       "      <td>27</td>\n",
       "      <td>58</td>\n",
       "      <td>49</td>\n",
       "      <td>80</td>\n",
       "      <td>0.9887</td>\n",
       "      <td>1.0000</td>\n",
       "    </tr>\n",
       "    <tr>\n",
       "      <th>10</th>\n",
       "      <td>12</td>\n",
       "      <td>5.00</td>\n",
       "      <td>6.00</td>\n",
       "      <td>22</td>\n",
       "      <td>18</td>\n",
       "      <td>44</td>\n",
       "      <td>36</td>\n",
       "      <td>0.8200</td>\n",
       "      <td>0.8588</td>\n",
       "    </tr>\n",
       "    <tr>\n",
       "      <th>11</th>\n",
       "      <td>13</td>\n",
       "      <td>14.05</td>\n",
       "      <td>19.34</td>\n",
       "      <td>28</td>\n",
       "      <td>14</td>\n",
       "      <td>47</td>\n",
       "      <td>23</td>\n",
       "      <td>1.0000</td>\n",
       "      <td>0.9310</td>\n",
       "    </tr>\n",
       "    <tr>\n",
       "      <th>12</th>\n",
       "      <td>14</td>\n",
       "      <td>12.66</td>\n",
       "      <td>12.08</td>\n",
       "      <td>28</td>\n",
       "      <td>7</td>\n",
       "      <td>44</td>\n",
       "      <td>20</td>\n",
       "      <td>1.0000</td>\n",
       "      <td>0.7890</td>\n",
       "    </tr>\n",
       "    <tr>\n",
       "      <th>13</th>\n",
       "      <td>15</td>\n",
       "      <td>6.48</td>\n",
       "      <td>5.08</td>\n",
       "      <td>16</td>\n",
       "      <td>15</td>\n",
       "      <td>31</td>\n",
       "      <td>28</td>\n",
       "      <td>0.8902</td>\n",
       "      <td>0.6697</td>\n",
       "    </tr>\n",
       "    <tr>\n",
       "      <th>14</th>\n",
       "      <td>16</td>\n",
       "      <td>10.06</td>\n",
       "      <td>16.64</td>\n",
       "      <td>24</td>\n",
       "      <td>12</td>\n",
       "      <td>40</td>\n",
       "      <td>28</td>\n",
       "      <td>0.8237</td>\n",
       "      <td>0.8021</td>\n",
       "    </tr>\n",
       "    <tr>\n",
       "      <th>15</th>\n",
       "      <td>17</td>\n",
       "      <td>13.97</td>\n",
       "      <td>10.25</td>\n",
       "      <td>28</td>\n",
       "      <td>25</td>\n",
       "      <td>41</td>\n",
       "      <td>42</td>\n",
       "      <td>1.0000</td>\n",
       "      <td>1.0000</td>\n",
       "    </tr>\n",
       "    <tr>\n",
       "      <th>16</th>\n",
       "      <td>18</td>\n",
       "      <td>7.73</td>\n",
       "      <td>5.00</td>\n",
       "      <td>15</td>\n",
       "      <td>22</td>\n",
       "      <td>28</td>\n",
       "      <td>42</td>\n",
       "      <td>0.7314</td>\n",
       "      <td>0.8801</td>\n",
       "    </tr>\n",
       "    <tr>\n",
       "      <th>17</th>\n",
       "      <td>19</td>\n",
       "      <td>11.67</td>\n",
       "      <td>7.25</td>\n",
       "      <td>28</td>\n",
       "      <td>54</td>\n",
       "      <td>42</td>\n",
       "      <td>86</td>\n",
       "      <td>0.8275</td>\n",
       "      <td>1.0000</td>\n",
       "    </tr>\n",
       "    <tr>\n",
       "      <th>18</th>\n",
       "      <td>20</td>\n",
       "      <td>4.00</td>\n",
       "      <td>5.00</td>\n",
       "      <td>24</td>\n",
       "      <td>35</td>\n",
       "      <td>45</td>\n",
       "      <td>55</td>\n",
       "      <td>0.7500</td>\n",
       "      <td>1.0000</td>\n",
       "    </tr>\n",
       "    <tr>\n",
       "      <th>19</th>\n",
       "      <td>21</td>\n",
       "      <td>5.98</td>\n",
       "      <td>5.03</td>\n",
       "      <td>23</td>\n",
       "      <td>39</td>\n",
       "      <td>46</td>\n",
       "      <td>63</td>\n",
       "      <td>0.9996</td>\n",
       "      <td>0.9998</td>\n",
       "    </tr>\n",
       "    <tr>\n",
       "      <th>20</th>\n",
       "      <td>22</td>\n",
       "      <td>3.02</td>\n",
       "      <td>4.00</td>\n",
       "      <td>23</td>\n",
       "      <td>39</td>\n",
       "      <td>49</td>\n",
       "      <td>62</td>\n",
       "      <td>1.0000</td>\n",
       "      <td>0.9962</td>\n",
       "    </tr>\n",
       "  </tbody>\n",
       "</table>\n",
       "</div>"
      ],
      "text/plain": [
       "    hour  OPT_num_servers  HEUR_num_servers  OPT_ave_wait  HEUR_ave_wait  \\\n",
       "0      0             3.00              4.00            26             18   \n",
       "1      1             3.00              1.00            24             40   \n",
       "2      2             3.00              3.00            25             26   \n",
       "3      3             2.00              1.00            16             26   \n",
       "4      5             3.80              5.00            21             13   \n",
       "5      6             4.21              6.00            26             15   \n",
       "6      7             3.97              3.00            20             23   \n",
       "7      8             5.01              5.03            28             53   \n",
       "8      9             5.00              2.00            11             47   \n",
       "9     10             3.00              4.00            27             58   \n",
       "10    12             5.00              6.00            22             18   \n",
       "11    13            14.05             19.34            28             14   \n",
       "12    14            12.66             12.08            28              7   \n",
       "13    15             6.48              5.08            16             15   \n",
       "14    16            10.06             16.64            24             12   \n",
       "15    17            13.97             10.25            28             25   \n",
       "16    18             7.73              5.00            15             22   \n",
       "17    19            11.67              7.25            28             54   \n",
       "18    20             4.00              5.00            24             35   \n",
       "19    21             5.98              5.03            23             39   \n",
       "20    22             3.02              4.00            23             39   \n",
       "\n",
       "    OPT_max_wait  HEUR_max_wait  OPT_ave_server_util  HEUR_ave_server_util  \n",
       "0             48             45               0.7500                0.7500  \n",
       "1             35             58               0.7549                0.9999  \n",
       "2             54             66               0.6700                0.8743  \n",
       "3             32             44               0.6526                0.8647  \n",
       "4             41             26               0.8620                0.8791  \n",
       "5             49             44               0.9984                0.6494  \n",
       "6             37             42               0.9746                0.9040  \n",
       "7             56             97               0.3078                0.4931  \n",
       "8             24             58               0.9197                1.0000  \n",
       "9             49             80               0.9887                1.0000  \n",
       "10            44             36               0.8200                0.8588  \n",
       "11            47             23               1.0000                0.9310  \n",
       "12            44             20               1.0000                0.7890  \n",
       "13            31             28               0.8902                0.6697  \n",
       "14            40             28               0.8237                0.8021  \n",
       "15            41             42               1.0000                1.0000  \n",
       "16            28             42               0.7314                0.8801  \n",
       "17            42             86               0.8275                1.0000  \n",
       "18            45             55               0.7500                1.0000  \n",
       "19            46             63               0.9996                0.9998  \n",
       "20            49             62               1.0000                0.9962  "
      ]
     },
     "execution_count": 4,
     "metadata": {},
     "output_type": "execute_result"
    }
   ],
   "source": [
    "# Simple function to retrieve schedules\n",
    "def retrieve_schedules(sim_dir):\n",
    "    \"\"\"\n",
    "    Builds ensemble optimzied schedule and comparative ensemble\n",
    "    heuristic schedule from a simulation output directory.\n",
    "    \n",
    "    Args:\n",
    "      sim_dir: directory from which to extract schedules\n",
    "    \n",
    "    Returns:\n",
    "      data_comp: pandas dataframe holding schedules.\n",
    "    \"\"\"\n",
    "\n",
    "    # Use the customs db, or another for temporary SQL querying.\n",
    "    tmp_db = \"tmp_db.sqlite\"\n",
    "    connection = sqlite3.connect(tmp_db)\n",
    "    cursor = connection.cursor()\n",
    "\n",
    "    cursor.execute(\"DROP TABLE if exists optimized;\")\n",
    "    cursor.execute(\"DROP TABLE if exists heuristic;\")\n",
    "\n",
    "    # Create temporary tables.\n",
    "    cursor.execute('CREATE TABLE optimized '\n",
    "                        '(idx integer primary key, '\n",
    "                        'hour integer, '\n",
    "                        'count integer, '\n",
    "                        'ave_wait real, '\n",
    "                        'max_wait real, '\n",
    "                        'ave_server_utilization real, '\n",
    "                        'num_servers integer);')\n",
    "\n",
    "    cursor.execute('CREATE TABLE heuristic '\n",
    "                        '(idx integer primary key, '\n",
    "                        'hour integer, '\n",
    "                        'count integer, '\n",
    "                        'ave_wait real, '\n",
    "                        'max_wait real, '\n",
    "                        'ave_server_utilization real, '\n",
    "                        'num_servers integer);')\n",
    "\n",
    "    # Read in the raw results from CSV to pandas dataframes.\n",
    "    tmp_opt = pd.read_csv(os.path.join(sim_dir, \"optimized_models.csv\"))\n",
    "    tmp_heur = pd.read_csv(os.path.join(sim_dir, \"heuristic_models.csv\"))\n",
    "\n",
    "    # Insert raw results into database\n",
    "    tmp_opt.to_sql('optimized', connection, if_exists='replace')\n",
    "    tmp_heur.to_sql('heuristic', connection, if_exists='replace')\n",
    "\n",
    "    # Perform summary SQL queries.\n",
    "    data_opt = pd.read_sql('SELECT cast(hour as int) as hour, '\n",
    "                                   'cast(avg(ave_wait) as int) as OPT_ave_wait, '\n",
    "                                   'cast(avg(max_wait) as int) as OPT_max_wait, '\n",
    "                                   'avg(ave_server_utilization) as OPT_ave_server_util, '\n",
    "                                   'avg(num_servers) as OPT_num_servers '\n",
    "                               'FROM optimized '\n",
    "                               'WHERE hour != \\'hour\\''\n",
    "                               'GROUP by hour '\n",
    "                               'ORDER BY cast(hour as integer)', connection)\n",
    "\n",
    "    data_heur = pd.read_sql('SELECT cast(hour as integer) as hour, '\n",
    "                                    'cast(avg(ave_wait) as int) as HEUR_ave_wait, '\n",
    "                                    'cast(avg(max_wait) as int) as HEUR_max_wait, '\n",
    "                                    'avg(ave_server_utilization) as HEUR_ave_server_util, '\n",
    "                                    'avg(num_servers) as HEUR_num_servers '\n",
    "                                'FROM heuristic '\n",
    "                                'WHERE hour != \\'hour\\''\n",
    "                                'GROUP BY hour '\n",
    "                                'ORDER BY cast(hour as integer)', connection)\n",
    "\n",
    "    # Clean-up and close database connection.\n",
    "    cursor.execute(\"DROP TABLE optimized;\")\n",
    "    cursor.execute(\"DROP TABLE heuristic;\")\n",
    "\n",
    "    connection.close()\n",
    "\n",
    "    # Merge dataframes for comparitive analysis.\n",
    "    data = data_opt.merge(data_heur, left_on='hour', right_on='hour', how='outer')\n",
    "    cols = data.columns.tolist()\n",
    "    data = data[[cols[0], cols[4], cols[8], cols[1], cols[5],\n",
    "                 cols[2], cols[6], cols[3], cols[7]]]\n",
    "\n",
    "    return data\n",
    "\n",
    "\n",
    "# Grab a sample domestic and foreign directory for analysis.\n",
    "sample_dir = os.path.join(\"output\", simulations[1])\n",
    "data_comp = retrieve_schedules(sample_dir)\n",
    "\n",
    "print(\"Schedule for \", sample_dir, \":\\n\", sep = \"\")\n",
    "data_comp"
   ]
  },
  {
   "cell_type": "markdown",
   "metadata": {},
   "source": [
    "## Comparative Analysis\n",
    "\n",
    "For a selected simulation, we compare average wait times, max wait times, number of online servers, and server utilization for the optimized case versus the linear heuristic case."
   ]
  },
  {
   "cell_type": "markdown",
   "metadata": {},
   "source": [
    "### Average Wait Times, Optimized Schedule vs. Linear Heuristic"
   ]
  },
  {
   "cell_type": "code",
   "execution_count": 5,
   "metadata": {
    "collapsed": false
   },
   "outputs": [
    {
     "name": "stdout",
     "output_type": "stream",
     "text": [
      "Optimized customs schedule: \n",
      "Average wait: 23.0 minutes\n",
      "Standard deviation: 4.92950301755 minutes.\n",
      "Num. hours in which a passenger's average wait exceeds threshold: 0\n",
      "\n",
      "Heuristic customs schedule: \n",
      "Average wait: 28.5238095238 minutes\n",
      "Standard deviation: 15.370813406 minutes.\n",
      "Num. hours in which a passenger's average wait exceeds threshold: 8\n"
     ]
    },
    {
     "data": {
      "text/plain": [
       "<matplotlib.text.Text at 0x112921810>"
      ]
     },
     "execution_count": 5,
     "metadata": {},
     "output_type": "execute_result"
    },
    {
     "data": {
      "image/png": "[encoded data removed]",
      "text/plain": [
       "<matplotlib.figure.Figure at 0x112797d90>"
      ]
     },
     "metadata": {},
     "output_type": "display_data"
    }
   ],
   "source": [
    "print(\"Optimized customs schedule: \\n\",\n",
    "      \"Average wait: \", data_comp['OPT_ave_wait'].mean(), \" minutes\\n\",\n",
    "      \"Standard deviation: \", data_comp['OPT_ave_wait'].std(), \" minutes.\\n\",\n",
    "      \"Num. hours in which a passenger's average wait exceeds threshold: \",\n",
    "      (data_comp['OPT_ave_wait'] > 30).sum(), \"\\n\", sep= \"\")\n",
    "\n",
    "print(\"Heuristic customs schedule: \\n\",\n",
    "      \"Average wait: \", data_comp['HEUR_ave_wait'].mean(), \" minutes\\n\",\n",
    "      \"Standard deviation: \", data_comp['HEUR_ave_wait'].std(), \" minutes.\\n\",\n",
    "      \"Num. hours in which a passenger's average wait exceeds threshold: \",  (data_comp['HEUR_ave_wait'] > 30).sum(), sep= \"\")\n",
    "\n",
    "data_comp.plot(x='hour', figsize = (10,5), y=['OPT_ave_wait', 'HEUR_ave_wait'], kind = 'bar', color=('b','r'))\n",
    "plt.xlabel('hour')\n",
    "plt.ylabel('minutes')\n",
    "plt.title('Passenger Average Wait Times for \\nOptimized vs. Heuristic Server Schedules')"
   ]
  },
  {
   "cell_type": "markdown",
   "metadata": {},
   "source": [
    "### Maximum Wait Times, Optimized Schedule vs. Linear Heuristic"
   ]
  },
  {
   "cell_type": "code",
   "execution_count": 6,
   "metadata": {
    "collapsed": false
   },
   "outputs": [
    {
     "name": "stdout",
     "output_type": "stream",
     "text": [
      "Optimized customs schedule: \n",
      "Maximum wait time: 56 minutes\n",
      "Num. hours in which a passenger's average wait exceeds 2x threshold: 0\n",
      "\n",
      "Heuristic customs schedule: \n",
      "Maximum wait time: 97 minutes\n",
      "Num. hours in which a passenger's average wait exceeds 2x threshold: 6\n"
     ]
    },
    {
     "data": {
      "text/plain": [
       "<matplotlib.text.Text at 0x112c70610>"
      ]
     },
     "execution_count": 6,
     "metadata": {},
     "output_type": "execute_result"
    },
    {
     "data": {
      "image/png": "[encoded data removed]",
      "text/plain": [
       "<matplotlib.figure.Figure at 0x112a52b90>"
      ]
     },
     "metadata": {},
     "output_type": "display_data"
    }
   ],
   "source": [
    "print(\"Optimized customs schedule: \\n\",\n",
    "      \"Maximum wait time: \", data_comp['OPT_max_wait'].max(), \" minutes\\n\",\n",
    "      \"Num. hours in which a passenger's average wait exceeds 2x threshold: \",\n",
    "      (data_comp['OPT_max_wait'] > 60).sum(), \"\\n\", sep= \"\")\n",
    "\n",
    "print(\"Heuristic customs schedule: \\n\",\n",
    "      \"Maximum wait time: \", data_comp['HEUR_max_wait'].max(), \" minutes\\n\",\n",
    "      \"Num. hours in which a passenger's average wait exceeds 2x threshold: \",\n",
    "      (data_comp['HEUR_max_wait'] > 60).sum(), sep= \"\")\n",
    "\n",
    "data_comp.plot(x='hour', figsize = (10,5), y=['OPT_max_wait', 'HEUR_max_wait'], kind = 'bar', color=('b','r'))\n",
    "plt.xlabel('hour')\n",
    "plt.ylabel('minutes')\n",
    "plt.title('Passenger Maximum Wait Times for \\nOptimized vs. Heuristic Server Schedules')"
   ]
  },
  {
   "cell_type": "markdown",
   "metadata": {},
   "source": [
    "### Number of Servers, Optimized Schedule vs. Linear Heuristic"
   ]
  },
  {
   "cell_type": "code",
   "execution_count": 7,
   "metadata": {
    "collapsed": false
   },
   "outputs": [
    {
     "name": "stdout",
     "output_type": "stream",
     "text": [
      "Optimized customs schedule: \n",
      "Total scheduled servers: 130\n",
      "\n",
      "Heuristic customs schedule: \n",
      "Total scheduled servers: 129\n",
      "\n"
     ]
    },
    {
     "data": {
      "text/plain": [
       "<matplotlib.text.Text at 0x112f2f490>"
      ]
     },
     "execution_count": 7,
     "metadata": {},
     "output_type": "execute_result"
    },
    {
     "data": {
      "image/png": "[encoded data removed]",
      "text/plain": [
       "<matplotlib.figure.Figure at 0x112dccad0>"
      ]
     },
     "metadata": {},
     "output_type": "display_data"
    }
   ],
   "source": [
    "print(\"Optimized customs schedule: \\n\",\n",
    "      \"Total scheduled servers: \", int(data_comp['OPT_num_servers'].sum()),\n",
    "      \"\\n\", sep= \"\")\n",
    "\n",
    "print(\"Heuristic customs schedule: \\n\",\n",
    "      \"Total scheduled servers: \", int(data_comp['HEUR_num_servers'].sum()),\n",
    "      \"\\n\", sep= \"\")\n",
    "\n",
    "data_comp.plot(x='hour', figsize = (10,5), y=['OPT_num_servers', 'HEUR_num_servers'], kind = 'bar', color=('b','r'))\n",
    "plt.xlabel('hour')\n",
    "plt.ylabel('number of servers')\n",
    "plt.title('Number of Scheduled Servers for \\nOptimized vs. Heuristic Server Schedules')"
   ]
  },
  {
   "cell_type": "markdown",
   "metadata": {},
   "source": [
    "### Server Utilization, Optimized Schedule vs. Linear Heuristic"
   ]
  },
  {
   "cell_type": "code",
   "execution_count": 8,
   "metadata": {
    "collapsed": false
   },
   "outputs": [
    {
     "name": "stdout",
     "output_type": "stream",
     "text": [
      "Optimized customs schedule: \n",
      "Average server utilization: 0.843861904762\n",
      "Num. hours in which server utilization is 1: 4\n",
      "\n",
      "Heuristic customs schedule: \n",
      "Average server utilization: 0.87339047619\n",
      "Num. hours in which server utilization is 1: 5\n"
     ]
    },
    {
     "data": {
      "text/plain": [
       "<matplotlib.text.Text at 0x113115190>"
      ]
     },
     "execution_count": 8,
     "metadata": {},
     "output_type": "execute_result"
    },
    {
     "data": {
      "image/png": "[encoded data removed]",
      "text/plain": [
       "<matplotlib.figure.Figure at 0x1130471d0>"
      ]
     },
     "metadata": {},
     "output_type": "display_data"
    }
   ],
   "source": [
    "print(\"Optimized customs schedule: \\n\",\n",
    "      \"Average server utilization: \", data_comp['OPT_ave_server_util'].mean(), \"\\n\",\n",
    "      \"Num. hours in which server utilization is 1: \",\n",
    "      (data_comp['OPT_ave_server_util'] == 1).sum(), \"\\n\", sep= \"\")\n",
    "\n",
    "print(\"Heuristic customs schedule: \\n\",\n",
    "      \"Average server utilization: \", data_comp['HEUR_ave_server_util'].mean(), \"\\n\",\n",
    "      \"Num. hours in which server utilization is 1: \",\n",
    "      (data_comp['HEUR_ave_server_util'] == 1).sum(), sep= \"\")\n",
    "\n",
    "data_comp.plot(x='hour', figsize = (10,5), y=['OPT_ave_server_util', 'HEUR_ave_server_util'], kind = 'bar', color=('b','r'))\n",
    "plt.xlabel('hour')\n",
    "plt.ylabel('server utilization')\n",
    "plt.title('Average Server Utilization for \\nOptimized vs. Heuristic Server Schedules')"
   ]
  },
  {
   "cell_type": "markdown",
   "metadata": {},
   "source": [
    "## Average Wait Sensitivity To Number of Scheduled Servers\n",
    "\n",
    "We can examine the sensitivities of the average wait times to the number of servers, so that efficiency of servers can be quantified."
   ]
  },
  {
   "cell_type": "code",
   "execution_count": 9,
   "metadata": {
    "collapsed": false
   },
   "outputs": [],
   "source": [
    "# Init a dic to hold optimization thresholds and total servers scheduled.\n",
    "dic = {}\n",
    "\n",
    "# Loop through all simulations in the output directory.\n",
    "for i in logs.columns:\n",
    "    \n",
    "    # Add list for new passenger type.\n",
    "    if logs[i]['passenger/server type'] not in dic:\n",
    "        dic[logs[i]['passenger/server type']] = []\n",
    "    \n",
    "    # Retrieve the number of servers scheduled and store as tuple to dic.\n",
    "    dic[logs[i]['passenger/server type']].append((logs[i]['wait threshold (min)'],\n",
    "                   int(retrieve_schedules(os.path.join(\"output\", logs[i].name))['OPT_num_servers'].sum())))"
   ]
  },
  {
   "cell_type": "code",
   "execution_count": 10,
   "metadata": {
    "collapsed": false
   },
   "outputs": [
    {
     "data": {
      "image/png": "[encoded data removed]",
      "text/plain": [
       "<matplotlib.figure.Figure at 0x11307f8d0>"
      ]
     },
     "metadata": {},
     "output_type": "display_data"
    },
    {
     "data": {
      "image/png": "[encoded data removed]",
      "text/plain": [
       "<matplotlib.figure.Figure at 0x112deafd0>"
      ]
     },
     "metadata": {},
     "output_type": "display_data"
    }
   ],
   "source": [
    "# Loop through all passenger/server types from the dic\n",
    "for key in dic.keys():\n",
    "\n",
    "    # Store thresholds as X, number of total scheduled servers as Y.\n",
    "    X = [i[0] for i in dic[key]]\n",
    "    Y = [i[1] for i in dic[key]]\n",
    "    \n",
    "    # Fit a 3rd-degree polynomial trendline\n",
    "    Z = np.polyfit(X, Y, 3)\n",
    "    p = np.poly1d(Z)\n",
    "    \n",
    "    plt.xlabel('Optimization Threshold (minutes)')\n",
    "    plt.ylabel('Number of Total Servers Scheduled')\n",
    "    plt.title('Sensitivity of Average Wait Times to Number of '\n",
    "              '\\nScheduled Servers, (' + key + ')')\n",
    "\n",
    "    plt.plot(X, Y, 'ro')\n",
    "    plt.plot(X, p(X))\n",
    "    plt.axis([10, 60, 0, max(Y) + 50])\n",
    "    plt.show()"
   ]
  }
 ],
 "metadata": {
  "kernelspec": {
   "display_name": "Python 2",
   "language": "python",
   "name": "python2"
  },
  "language_info": {
   "codemirror_mode": {
    "name": "ipython",
    "version": 2
   },
   "file_extension": ".py",
   "mimetype": "text/x-python",
   "name": "python",
   "nbconvert_exporter": "python",
   "pygments_lexer": "ipython2",
   "version": "2.7.11"
  }
 },
 "nbformat": 4,
 "nbformat_minor": 1
}
